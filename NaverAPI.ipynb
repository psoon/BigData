{
 "cells": [
  {
   "cell_type": "code",
   "execution_count": 48,
   "id": "56f3cdc3",
   "metadata": {},
   "outputs": [],
   "source": [
    "import pandas as pd\n",
    "import matplotlib.pyplot as plt\n",
    "\n",
    "%matplotlib inline\n",
    "\n",
    "newsDf = pd.read_csv('가천대_naver_news.csv')\n",
    "blogDf = pd.read_csv('가천대_naver_blog.csv')\n",
    "kinDf = pd.read_csv('가천대_naver_kin.csv')\n",
    "\n",
    "newsDf = newsDf.sort_values('pDate')\n",
    "newsDf['pDate'] = pd.to_datetime(newsDf['pDate'])\n",
    "blogDf = blogDf.sort_values('pDate')\n",
    "blogDf['pDate'] = pd.to_datetime(blogDf['pDate'], format='%Y%m%d')"
   ]
  },
  {
   "cell_type": "markdown",
   "id": "9f1bad0f",
   "metadata": {},
   "source": [
    "블로그 / 뉴스 주별 발행 통계"
   ]
  },
  {
   "cell_type": "code",
   "execution_count": 51,
   "id": "b02ccf2c",
   "metadata": {},
   "outputs": [
    {
     "data": {
      "image/png": "[encoded data removed]",
      "text/plain": [
       "<Figure size 576x360 with 1 Axes>"
      ]
     },
     "metadata": {
      "needs_background": "light"
     },
     "output_type": "display_data"
    },
    {
     "data": {
      "text/plain": [
       "<BarContainer object of 2 artists>"
      ]
     },
     "execution_count": 51,
     "metadata": {},
     "output_type": "execute_result"
    },
    {
     "data": {
      "image/png": "[encoded data removed]",
      "text/plain": [
       "<Figure size 432x288 with 1 Axes>"
      ]
     },
     "metadata": {
      "needs_background": "light"
     },
     "output_type": "display_data"
    }
   ],
   "source": [
    "blog_Y = blogDf.groupby(blogDf['pDate'].dt.strftime('%Y')).count()\n",
    "news_W = newsDf.groupby(newsDf['pDate'].dt.strftime('%m')).count()\n",
    "\n",
    "# blog_Y = blog_Y.reset_index()\n",
    "# news_W = news_W.reset_index()\n",
    "\n",
    "plt.figure(figsize=(8,5))\n",
    "plt.bar(blog_Y.index, blog_Y['cnt'])\n",
    "plt.show()\n",
    "plt.bar(news_W.index, news_W['cnt'])"
   ]
  },
  {
   "cell_type": "code",
   "execution_count": null,
   "id": "a77b3088",
   "metadata": {},
   "outputs": [],
   "source": []
  }
 ],
 "metadata": {
  "kernelspec": {
   "display_name": "Python 3",
   "language": "python",
   "name": "python3"
  },
  "language_info": {
   "codemirror_mode": {
    "name": "ipython",
    "version": 3
   },
   "file_extension": ".py",
   "mimetype": "text/x-python",
   "name": "python",
   "nbconvert_exporter": "python",
   "pygments_lexer": "ipython3",
   "version": "3.7.0"
  },
  "varInspector": {
   "cols": {
    "lenName": 16,
    "lenType": 16,
    "lenVar": 40
   },
   "kernels_config": {
    "python": {
     "delete_cmd_postfix": "",
     "delete_cmd_prefix": "del ",
     "library": "var_list.py",
     "varRefreshCmd": "print(var_dic_list())"
    },
    "r": {
     "delete_cmd_postfix": ") ",
     "delete_cmd_prefix": "rm(",
     "library": "var_list.r",
     "varRefreshCmd": "cat(var_dic_list()) "
    }
   },
   "types_to_exclude": [
    "module",
    "function",
    "builtin_function_or_method",
    "instance",
    "_Feature"
   ],
   "window_display": false
  }
 },
 "nbformat": 4,
 "nbformat_minor": 5
}
