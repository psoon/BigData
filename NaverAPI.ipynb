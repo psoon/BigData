{
 "cells": [
  {
   "cell_type": "code",
   "execution_count": 1,
   "id": "56f3cdc3",
   "metadata": {},
   "outputs": [],
   "source": [
    "import pandas as pd\n",
    "import matplotlib.pyplot as plt\n",
    "\n",
    "%matplotlib inline\n",
    "\n",
    "newsDf = pd.read_csv('가천대_naver_news.csv')\n",
    "blogDf = pd.read_csv('가천대_naver_blog.csv')\n",
    "kinDf = pd.read_csv('가천대_naver_kin.csv')\n",
    "\n",
    "newsDf = newsDf.sort_values('pDate')\n",
    "newsDf['pDate'] = pd.to_datetime(newsDf['pDate'])\n",
    "blogDf = blogDf.sort_values('pDate')\n",
    "blogDf['pDate'] = pd.to_datetime(blogDf['pDate'], format='%Y%m%d')"
   ]
  },
  {
   "cell_type": "markdown",
   "id": "9f1bad0f",
   "metadata": {},
   "source": [
    "블로그 / 뉴스 주별 발행 통계"
   ]
  },
  {
   "cell_type": "code",
   "execution_count": 2,
   "id": "b02ccf2c",
   "metadata": {},
   "outputs": [
    {
     "data": {
      "image/png": "[encoded data removed]",
      "text/plain": [
       "<Figure size 576x360 with 1 Axes>"
      ]
     },
     "metadata": {
      "needs_background": "light"
     },
     "output_type": "display_data"
    },
    {
     "data": {
      "text/plain": [
       "<BarContainer object of 2 artists>"
      ]
     },
     "execution_count": 2,
     "metadata": {},
     "output_type": "execute_result"
    },
    {
     "data": {
      "image/png": "[encoded data removed]",
      "text/plain": [
       "<Figure size 432x288 with 1 Axes>"
      ]
     },
     "metadata": {
      "needs_background": "light"
     },
     "output_type": "display_data"
    }
   ],
   "source": [
    "blog_Y = blogDf.groupby(blogDf['pDate'].dt.strftime('%Y')).count()\n",
    "news_W = newsDf.groupby(newsDf['pDate'].dt.strftime('%m')).count()\n",
    "\n",
    "# blog_Y = blog_Y.reset_index()\n",
    "# news_W = news_W.reset_index()\n",
    "\n",
    "plt.figure(figsize=(8,5))\n",
    "plt.bar(blog_Y.index, blog_Y['cnt'])\n",
    "plt.show()\n",
    "plt.bar(news_W.index, news_W['cnt'])"
   ]
  },
  {
   "cell_type": "markdown",
   "id": "79ff5189",
   "metadata": {},
   "source": [
    "블로그 / 뉴스 / 지식인 단어 통계"
   ]
  },
  {
   "cell_type": "code",
   "execution_count": 25,
   "id": "5c2be690",
   "metadata": {
    "scrolled": true
   },
   "outputs": [
    {
     "name": "stdout",
     "output_type": "stream",
     "text": [
      "블로그 단어 통계 :  {'논술': 178, '적성고사': 175, '오늘은': 137, '있는': 112, '약술형': 83, '수시': 76, '/': 65, '있습니다.': 65, '2022학년도': 64, '이': 61, '성남': 60, '대해': 59, '오늘': 56, '수': 56, '많은': 53, '내신': 52, '안녕하세요': 51, '수원대': 51, '아파트': 49, '전세': 49, '바로': 49, '-': 49, '가장': 48, '원룸': 47, '더포엠': 47, '맛집': 46, '약식논술': 46, '중': 45, '월세': 42, '태평동': 42, '및': 42, '위한': 41, '분당선': 39, '등': 39, '적성고사를': 38, '2021학년도': 38, '2023학년도': 38, '©': 37, '그리고': 37, '출처': 36, '합니다.': 36, '그래서': 36, '길병원': 35, ':': 35, '투룸': 34, '올해': 34, '위치한': 33, '그': 33, '한': 33, '수능': 32, '대한': 32, '성남시': 32, '간호학과': 32, '하는': 31, '함께': 31, '대학': 31} \n",
      "\n",
      "뉴스 단어 통계 :  {'교수는': 406, '길병원': 283, '감염내과': 242, '엄중식': 217, '등': 164, '정재훈': 151, '있다.': 126, '변이가': 106, '예방의학과': 96, '및': 91, '수': 85, '길병원,': 77, '다른': 74, '교수': 74, '이': 70, '접종을': 69, '4차': 64, '의대': 64, '마스크': 60, '교수,': 60, '진행할': 60, '나타날': 60, '통합': 58, '전': 57, '유행이': 57, '명지병원': 56, '&quot;4차': 55, '때쯤': 55, '우려가': 55, '가톨릭대학교': 54, '부천성모병원,': 54, '이화여자대학교': 54, '목동병원,': 54, '중앙대학교병원,': 54, '24개': 54, '대학': 53, '지난': 53, '있는': 51, '위한': 49, '더': 46, '대해': 44, '교수가': 42, '이재명': 40, '방역': 40, '것으로': 40, '확진자가': 39, '대한': 39, '교수도': 38, '이번': 37, '코로나19': 37, '최근': 37, '더불어민주당': 36, '것은': 35, '법학과': 35, '예방의학교실': 35, '이날': 34, '내': 33, '오전': 32, '많은': 32, '발인': 31, '참여한다.': 31, '때문에': 31, '3일': 31, '10주년을': 31} \n",
      "\n",
      "지식인 단어 통계 :  {'적성고사': 189, '더': 175, '수': 163, '논술': 160, '간호학과': 141, '내신': 122, '정시': 114, '제가': 103, '수시': 93, '갈': 80, '있는': 75, '수능': 70, '경우': 70, '수학': 68, '정시로': 66, '어디가': 62, '있나요?': 62, '국어': 60, '안녕하세요': 59, '중': 59, '거': 55, '그리고': 55, '올해': 54, '영어': 53, '하는데': 52, '등급': 51, '것': 51, '기준으로': 51, '약술형': 51, '학생부': 49, '없이': 49, '2022학년도': 48, '입학처': 48, '전형': 48, '좀': 45, '수1': 45, '편입': 44, '나오는': 44, '3등급': 43, '합격': 43, ':)': 42, '과학논술': 42, '잘': 41, '논술고사': 41, '알려주세요': 41, '정도': 40, '물리치료학과': 40, '다': 40, '가려면': 40, '어떻게': 40, '때': 39, '최저': 39, '수2만': 39, '평균': 37, '안녕하세요.': 37, '전형으로': 36, '대학': 36, '작년': 36, '가고': 35, '지금': 35, '많이': 35, '아시죠?': 35, '내신이': 34, '적성고사는': 34, '이번에': 33, '아래': 33, '과목': 33, '적성': 33, '논술로': 32, '일반전형': 32, '일반전형2': 32, '거북스쿨에서': 32, '혹시': 31, '받으면': 31, '있습니다.': 31, '이': 31} \n",
      "\n"
     ]
    }
   ],
   "source": [
    "import numpy as np\n",
    "\n",
    "blog_desc = blogDf['description'].copy()\n",
    "news_desc = newsDf['description'].copy()\n",
    "kin_desc = kinDf['description'].copy()\n",
    "\n",
    "blog_corpus = []\n",
    "news_corpus = []\n",
    "kin_corpus = []\n",
    "\n",
    "for blog in blog_desc:\n",
    "    blog = str(blog)\n",
    "    words = blog.replace('...', '').split(' ')\n",
    "    for word in words:\n",
    "        blog_corpus.append(word)\n",
    "for corpus in blog_corpus:\n",
    "    if'<b>가천대</b>' in corpus:\n",
    "        blog_corpus.remove(corpus)\n",
    "        \n",
    "        \n",
    "for news in news_desc:\n",
    "    news = str(news)\n",
    "    words = news.replace('...', '').split(' ')\n",
    "    for word in words:\n",
    "        news_corpus.append(word)\n",
    "for corpus in news_corpus:\n",
    "    if'<b>가천대</b>' in corpus:\n",
    "        news_corpus.remove(corpus)\n",
    "\n",
    "        \n",
    "for kin in kin_desc:\n",
    "    kin = str(kin)\n",
    "    words = kin.replace('...', '').split(' ')\n",
    "    for word in words:\n",
    "        kin_corpus.append(word)  \n",
    "for corpus in kin_corpus:\n",
    "    if'<b>가천대</b>' in corpus:\n",
    "        kin_corpus.remove(corpus)\n",
    "        \n",
    "        \n",
    "blogCount = {}\n",
    "for word in blog_corpus:\n",
    "    # Get 명령어를 통해, Dictionary에 Key가 없으면 0리턴\n",
    "    blogCount[word] = blogCount.get(word, 0) + 1\n",
    "    blogCount = dict(sorted(blogCount.items(), key=lambda x : x[1], reverse=True))\n",
    "blogCount = { key : value for key, value in blogCount.items() if value > 30}\n",
    "del blogCount['']\n",
    "print('블로그 단어 통계 : ', blogCount, '\\n')\n",
    "\n",
    "\n",
    "newsCount = {}\n",
    "for word in news_corpus:\n",
    "    # Get 명령어를 통해, Dictionary에 Key가 없으면 0리턴\n",
    "    newsCount[word] = newsCount.get(word, 0) + 1\n",
    "    newsCount = dict(sorted(newsCount.items(), key=lambda x : x[1], reverse=True))\n",
    "newsCount = { key : value for key, value in newsCount.items() if value > 30}\n",
    "del newsCount['']\n",
    "print('뉴스 단어 통계 : ', newsCount, '\\n')\n",
    "\n",
    "\n",
    "kinCount = {}\n",
    "for word in kin_corpus:\n",
    "    # Get 명령어를 통해, Dictionary에 Key가 없으면 0리턴\n",
    "    kinCount[word] = kinCount.get(word, 0) + 1\n",
    "    kinCount = dict(sorted(kinCount.items(), key=lambda x : x[1], reverse=True))\n",
    "kinCount = { key : value for key, value in kinCount.items() if value > 30}\n",
    "del kinCount['']\n",
    "print('지식인 단어 통계 : ', kinCount, '\\n')"
   ]
  },
  {
   "cell_type": "code",
   "execution_count": null,
   "id": "7f12f86b",
   "metadata": {},
   "outputs": [],
   "source": []
  }
 ],
 "metadata": {
  "kernelspec": {
   "display_name": "Python 3 (ipykernel)",
   "language": "python",
   "name": "python3"
  },
  "language_info": {
   "codemirror_mode": {
    "name": "ipython",
    "version": 3
   },
   "file_extension": ".py",
   "mimetype": "text/x-python",
   "name": "python",
   "nbconvert_exporter": "python",
   "pygments_lexer": "ipython3",
   "version": "3.9.7"
  },
  "varInspector": {
   "cols": {
    "lenName": 16,
    "lenType": 16,
    "lenVar": 40
   },
   "kernels_config": {
    "python": {
     "delete_cmd_postfix": "",
     "delete_cmd_prefix": "del ",
     "library": "var_list.py",
     "varRefreshCmd": "print(var_dic_list())"
    },
    "r": {
     "delete_cmd_postfix": ") ",
     "delete_cmd_prefix": "rm(",
     "library": "var_list.r",
     "varRefreshCmd": "cat(var_dic_list()) "
    }
   },
   "types_to_exclude": [
    "module",
    "function",
    "builtin_function_or_method",
    "instance",
    "_Feature"
   ],
   "window_display": false
  }
 },
 "nbformat": 4,
 "nbformat_minor": 5
}
